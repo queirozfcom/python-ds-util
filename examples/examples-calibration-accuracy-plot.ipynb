{
 "cells": [
  {
   "cell_type": "code",
   "execution_count": 7,
   "metadata": {
    "collapsed": true
   },
   "outputs": [],
   "source": [
    "import os\n",
    "import sys\n",
    "import matplotlib.pyplot as plt\n",
    "import numpy as np\n",
    "import pandas as pd"
   ]
  },
  {
   "cell_type": "code",
   "execution_count": 8,
   "metadata": {},
   "outputs": [
    {
     "data": {
      "text/plain": [
       "('2.1.0', '1.16.2', '0.24.1')"
      ]
     },
     "execution_count": 8,
     "metadata": {},
     "output_type": "execute_result"
    }
   ],
   "source": [
    "plt.matplotlib.__version__, np.__version__, pd.__version__"
   ]
  },
  {
   "cell_type": "code",
   "execution_count": 23,
   "metadata": {},
   "outputs": [],
   "source": [
    "y_trues = np.random.choice([0,1],size=100)"
   ]
  },
  {
   "cell_type": "code",
   "execution_count": 24,
   "metadata": {},
   "outputs": [],
   "source": [
    "y_preds = np.random.uniform(low=0,high=1,size=100)"
   ]
  },
  {
   "cell_type": "code",
   "execution_count": null,
   "metadata": {
    "collapsed": true
   },
   "outputs": [],
   "source": [
    "plt.clf()\n",
    "\n",
    "# barrinhas no ax1\n",
    "ax1 = plt.gca()\n",
    "top_scores_df['top_predicted_score'].plot(\n",
    "    kind='hist',bins=np.arange(0,101,5),rwidth=0.7,align='mid',ax=ax1,color='royalblue')\n",
    "\n",
    "ax1.set_yticks(np.arange(0,1010,50))\n",
    "vals = ax1.get_yticks()\n",
    "ax1.set_ylabel('Número de predições por bucket')\n",
    "\n",
    "# linhas no ax2\n",
    "ax2 = ax1.twinx()\n",
    "\n",
    "grouped_df = top_scores_df.groupby('bucket')['match'].mean().to_frame().reset_index()\n",
    "buckets = grouped_df.bucket.values.astype(int)\n",
    "avg_accuracies = grouped_df.match.fillna(np.nan).values\n",
    "\n",
    "# o + 2.5 é só pra alinhar no eixo x\n",
    "ax2.plot([b+2.5 for b in buckets],avg_accuracies,'ro-',linewidth=0.8)\n",
    "\n",
    "# as percentagens\n",
    "\n",
    "ax2.set_yticks(np.arange(0,1.05,0.05))\n",
    "ax2.set_yticklabels(['{:.0f}%'.format(x*100) for x in ax2.get_yticks()],color='red')\n",
    "ax2.set_ylabel('Average accuracy',color='red')\n",
    "# ax2.set_xticks(buckets)\n",
    "\n",
    "# plotting.add_grid(ax=ax1)\n",
    "plotting.add_grid(ax=ax2)\n",
    "plotting.plot_value_labels(format=\"{:.0f}\",ax=ax1)\n",
    "plt.xticks(np.arange(0,101,5))\n",
    "ax1.xaxis.set_ticks_position('bottom')\n",
    "plt.gcf().set_size_inches(7,5)\n",
    "plt.suptitle(\n",
    "    'TEST SET \\n'+\n",
    "    'DROP INTER-MOMENT TRANSITIONS={} \\nDROP-INTER FASE TRANSITIONS={} \\nMAX_AGE={} \\nACCURACY={:.2f}%'.format(DROP_INTRA_MOMENT,DROP_INTRA_FASE, MAX_TEXT_AGE,accuracy),\n",
    "    y=1.08)\n",
    "plt.show()"
   ]
  }
 ],
 "metadata": {
  "kernelspec": {
   "display_name": "Global TF Kernel (Python 3)",
   "language": "python",
   "name": "global-tf-python-3"
  },
  "language_info": {
   "codemirror_mode": {
    "name": "ipython",
    "version": 3
   },
   "file_extension": ".py",
   "mimetype": "text/x-python",
   "name": "python",
   "nbconvert_exporter": "python",
   "pygments_lexer": "ipython3",
   "version": "3.5.2"
  }
 },
 "nbformat": 4,
 "nbformat_minor": 2
}
