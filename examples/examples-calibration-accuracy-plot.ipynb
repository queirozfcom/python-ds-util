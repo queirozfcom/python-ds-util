{
 "cells": [
  {
   "cell_type": "code",
   "execution_count": 88,
   "metadata": {
    "collapsed": true
   },
   "outputs": [],
   "source": [
    "import os\n",
    "import sys\n",
    "import matplotlib.pyplot as plt\n",
    "import numpy as np\n",
    "import pandas as pd\n",
    "from collections import defaultdict\n",
    "from itertools import groupby\n",
    "from operator import itemgetter"
   ]
  },
  {
   "cell_type": "code",
   "execution_count": 2,
   "metadata": {},
   "outputs": [
    {
     "data": {
      "text/plain": [
       "('2.1.0', '1.16.2', '0.24.1')"
      ]
     },
     "execution_count": 2,
     "metadata": {},
     "output_type": "execute_result"
    }
   ],
   "source": [
    "plt.matplotlib.__version__, np.__version__, pd.__version__"
   ]
  },
  {
   "cell_type": "code",
   "execution_count": 64,
   "metadata": {
    "collapsed": true
   },
   "outputs": [],
   "source": [
    "root_dir = os.path.abspath(\"__file__\"+\"/../../\")"
   ]
  },
  {
   "cell_type": "code",
   "execution_count": 65,
   "metadata": {
    "collapsed": true
   },
   "outputs": [],
   "source": [
    "sys.path.insert(0,root_dir)"
   ]
  },
  {
   "cell_type": "code",
   "execution_count": 66,
   "metadata": {
    "collapsed": true
   },
   "outputs": [],
   "source": [
    "%load_ext autoreload\n",
    "%autoreload 2"
   ]
  },
  {
   "cell_type": "code",
   "execution_count": 68,
   "metadata": {
    "collapsed": true
   },
   "outputs": [],
   "source": [
    "from dsutil import plotting"
   ]
  },
  {
   "cell_type": "code",
   "execution_count": 3,
   "metadata": {
    "collapsed": true
   },
   "outputs": [],
   "source": [
    "y_trues = np.random.choice([0,1],size=100)"
   ]
  },
  {
   "cell_type": "code",
   "execution_count": 4,
   "metadata": {
    "collapsed": true
   },
   "outputs": [],
   "source": [
    "y_preds = np.random.uniform(low=0,high=1,size=100)"
   ]
  },
  {
   "cell_type": "code",
   "execution_count": 50,
   "metadata": {},
   "outputs": [
    {
     "data": {
      "text/plain": [
       "array([0.12, 0.23, 0.9 , 0.04, 0.91, 0.46, 0.55, 0.99])"
      ]
     },
     "execution_count": 50,
     "metadata": {},
     "output_type": "execute_result"
    }
   ],
   "source": [
    "arr = np.array([0.12,0.23,0.90,.04,0.91,0.46,0.55,0.99])\n",
    "arr"
   ]
  },
  {
   "cell_type": "code",
   "execution_count": 52,
   "metadata": {},
   "outputs": [
    {
     "data": {
      "text/plain": [
       "array([0.  , 0.05, 0.1 , 0.15, 0.2 , 0.25, 0.3 , 0.35, 0.4 , 0.45, 0.5 ,\n",
       "       0.55, 0.6 , 0.65, 0.7 , 0.75, 0.8 , 0.85, 0.9 , 0.95])"
      ]
     },
     "execution_count": 52,
     "metadata": {},
     "output_type": "execute_result"
    }
   ],
   "source": [
    "score_bins = np.arange(0,1,0.05)\n",
    "score_bins"
   ]
  },
  {
   "cell_type": "code",
   "execution_count": 53,
   "metadata": {},
   "outputs": [
    {
     "data": {
      "text/plain": [
       "(array([1, 0, 1, 0, 1, 0, 0, 0, 0, 1, 0, 1, 0, 0, 0, 0, 0, 0, 2]),\n",
       " array([0.  , 0.05, 0.1 , 0.15, 0.2 , 0.25, 0.3 , 0.35, 0.4 , 0.45, 0.5 ,\n",
       "        0.55, 0.6 , 0.65, 0.7 , 0.75, 0.8 , 0.85, 0.9 , 0.95]))"
      ]
     },
     "execution_count": 53,
     "metadata": {},
     "output_type": "execute_result"
    }
   ],
   "source": [
    "hist, bin_edges = np.histogram(arr,bins=score_bins)\n",
    "hist, bin_edges"
   ]
  },
  {
   "cell_type": "code",
   "execution_count": 54,
   "metadata": {},
   "outputs": [
    {
     "data": {
      "text/plain": [
       "array([ 3,  5, 19,  1, 19, 10, 12, 20])"
      ]
     },
     "execution_count": 54,
     "metadata": {},
     "output_type": "execute_result"
    }
   ],
   "source": [
    "bin_indexes = np.digitize(arr,bin_edges)\n",
    "bin_indexes"
   ]
  },
  {
   "cell_type": "code",
   "execution_count": 55,
   "metadata": {},
   "outputs": [
    {
     "data": {
      "text/plain": [
       "array([0.1 , 0.2 , 0.9 , 0.  , 0.9 , 0.45, 0.55, 0.95])"
      ]
     },
     "execution_count": 55,
     "metadata": {},
     "output_type": "execute_result"
    }
   ],
   "source": [
    "bin_edges[bin_indexes-1]"
   ]
  },
  {
   "cell_type": "code",
   "execution_count": 240,
   "metadata": {
    "scrolled": false
   },
   "outputs": [
    {
     "data": {
      "image/png": "[encoded data removed]",
      "text/plain": [
       "<matplotlib.figure.Figure at 0x7f2be3c0eeb8>"
      ]
     },
     "metadata": {},
     "output_type": "display_data"
    }
   ],
   "source": [
    "def calibration_accuracy_plot(y_true,y_pred,ax=None):\n",
    "    \n",
    "    if y_true.shape != y_pred.shape:\n",
    "        raise ValueError(\n",
    "            'Expected y_true and y_pred to have the same shapes, got {} and {}'.format(y_true.shape, y_pred.shape))\n",
    "        \n",
    "    y_label_left = 'number of predictions in bucket'\n",
    "    y_label_right = 'average accuracy per bucket (test set)'\n",
    "    x_label = 'score buckets'\n",
    "    main_color = 'royalblue'\n",
    "    secondary_color = 'red'\n",
    "    bar_width = 0.7    \n",
    "        \n",
    "    num_bins = 10\n",
    "    \n",
    "    min_x = 0.0\n",
    "    max_x = 1.0\n",
    "    \n",
    "    epsilon = 0.001\n",
    "    \n",
    "    score_bins = np.arange(0,1,(1.0/num_bins))\n",
    "    # need to add epsilon otherwise arange wont include the last number\n",
    "    score_bins_with_endpoint = np.arange(0,1+epsilon,(1.0/num_bins))\n",
    "   \n",
    "    # hist contains the number of elements per bin\n",
    "    hist, bin_edges = np.histogram(y_pred,bins=score_bins)\n",
    "\n",
    "    bin_edges_with_right_edge = np.append(bin_edges,1.0)\n",
    "    \n",
    "   \n",
    "    bin_indexes = np.digitize(y_pred,bin_edges)\n",
    "    element_bins = bin_edges[bin_indexes-1]\n",
    "        \n",
    "    if ax is None:\n",
    "        ax = plt.gca()\n",
    "    \n",
    "    ax.hist(\n",
    "        y_pred,\n",
    "        bins=score_bins_with_endpoint,\n",
    "        rwidth=bar_width,\n",
    "        color=main_color\n",
    "    )\n",
    "       \n",
    "    ax.set_ylabel(y_label_left,color=main_color)\n",
    "        \n",
    "    # make a 2d list of the form [bucket,actual,score]\n",
    "    # [\n",
    "    #  [ 0.90 , 1 , 0.92 ],  \n",
    "    #  [ 0.80 , 0 , 0.81 ],  \n",
    "    #  [ 0.55 , 0 , 0.55 ]  \n",
    "    # ]\n",
    "    merged = np.hstack([\n",
    "        element_bins.reshape(-1,1),\n",
    "        y_true.reshape(-1,1),\n",
    "        y_pred.reshape(-1,1)\n",
    "    ])\n",
    "#     print('merged:')\n",
    "#     print(merged)\n",
    "    \n",
    "#     merged_sorted = np.sort(merged,axis=1)\n",
    "    merged_sorted = merged[merged[:,0].argsort()]\n",
    "#     print('merged sorted')\n",
    "#     print(merged_sorted)\n",
    "    # https://stackoverflow.com/a/43094244\n",
    "    grouped = np.split(merged_sorted[:, 1], np.cumsum(np.unique(merged_sorted[:, 0], return_counts=True)[1])[:-1])\n",
    "    \n",
    "#     print('grouped')\n",
    "#     print(grouped)\n",
    "    \n",
    "    averages_by_bucket = np.hstack([\n",
    "        np.unique(merged_sorted[:, 0]).reshape(-1,1),\n",
    "        np.array([np.mean(g) for g in grouped]).reshape(-1,1)\n",
    "    ])\n",
    "    \n",
    "#     print('averages by bucket')\n",
    "#     print(averages_by_bucket)\n",
    "    \n",
    "    y_labels = ax.get_yticks()\n",
    "    y_labels_as_int = [int(l) for l in y_labels]\n",
    "    \n",
    "    ax.set_yticklabels(y_labels_as_int, color=main_color)\n",
    "    \n",
    "    ax2 = ax.twinx()\n",
    "    \n",
    "    slack_x = 0.05 # must be half the width of one bucket\n",
    "    ax2.plot(averages_by_bucket[:,0]+slack_x,averages_by_bucket[:,1],'ro-',linewidth=0.8)\n",
    "    ax2.set_yticks(np.arange(0,1.05,0.1))\n",
    "    ax2.set_yticklabels(['{:.0f}%'.format(x*100) for x in ax2.get_yticks()],color='red')\n",
    "    ax2.set_ylabel(y_label_right,color=secondary_color)\n",
    "    \n",
    "#     plotting.add_grid(ax)\n",
    "    plotting.add_grid(ax2)\n",
    "    \n",
    "    ax.set_xlabel(x_label)\n",
    "    ax.set_xticks(score_bins_with_endpoint)\n",
    "    \n",
    "    plt.show()\n",
    "        \n",
    "# np.random.seed(100)\n",
    "# using the beta distribution to have more scores on the right\n",
    "scores = np.random.beta(6,3,500)\n",
    "# print(scores)\n",
    "actual_values = np.random.choice([0.0,1.0],500)\n",
    "# print(actual_values)\n",
    "calibration_accuracy_plot(actual_values, scores)"
   ]
  },
  {
   "cell_type": "code",
   "execution_count": null,
   "metadata": {},
   "outputs": [],
   "source": [
    "y_label_left = 'frequency of scores in bucket'\n",
    "y_label_right = 'average accuracy per bucket (test set)'\n",
    "main_color = 'royalblue'\n",
    "secondary_color = 'red'\n",
    "\n",
    "plt.clf()\n",
    "\n",
    "ax1 = plt.gca()\n",
    "\n",
    "score_bins = np.arange(0,1,0.05)\n",
    "\n",
    "ax1.hist(\n",
    "    y_preds,\n",
    "    bins=score_bins,\n",
    "    rwidth=0.7,\n",
    "    align='mid',\n",
    "    color=main_color)\n",
    "\n",
    "ax1.set_ylabel(y_label,color=main_color)\n",
    "\n",
    "ax2 = ax1.twinx()\n",
    "\n",
    "# make a list of the form score, actual, bucket\n",
    "# [\n",
    "#  [ 0.92, 1 , 0.90],  \n",
    "#  [ 0.83, 0 , 0.80],  \n",
    "#  [ 0.58, 0 , 0.55]  \n",
    "# ]\n",
    "merged = np.hstack([\n",
    "    \n",
    "])\n",
    "\n",
    "\n",
    "# # then group by the bucket and get the avg score by bucket\n",
    "# for groupByID, rows in groupby(arr, key=itemgetter(2)):\n",
    "#     position1, position2, counter = 0, 0, 0\n",
    "#     for row in rows:\n",
    "#         position1+=row[0]\n",
    "#         position2+=row[1]\n",
    "#         counter+=1\n",
    "#     result.append([position1/counter, position2/counter, groupByID])\n",
    "\n",
    "# # plot the red line\n",
    "    \n",
    "# plt.show()"
   ]
  },
  {
   "cell_type": "code",
   "execution_count": null,
   "metadata": {
    "collapsed": true
   },
   "outputs": [],
   "source": [
    "plt.clf()\n",
    "\n",
    "# barrinhas no ax1\n",
    "ax1 = plt.gca()\n",
    "top_scores_df['top_predicted_score'].plot(\n",
    "    kind='hist',bins=np.arange(0,101,5),rwidth=0.7,align='mid',ax=ax1,color='royalblue')\n",
    "\n",
    "ax1.set_yticks(np.arange(0,1010,50))\n",
    "vals = ax1.get_yticks()\n",
    "ax1.set_ylabel('Número de predições por bucket')\n",
    "\n",
    "# linhas no ax2\n",
    "ax2 = ax1.twinx()\n",
    "\n",
    "grouped_df = top_scores_df.groupby('bucket')['match'].mean().to_frame().reset_index()\n",
    "buckets = grouped_df.bucket.values.astype(int)\n",
    "avg_accuracies = grouped_df.match.fillna(np.nan).values\n",
    "\n",
    "# o + 2.5 é só pra alinhar no eixo x\n",
    "ax2.plot([b+2.5 for b in buckets],avg_accuracies,'ro-',linewidth=0.8)\n",
    "\n",
    "# as percentagens\n",
    "\n",
    "ax2.set_yticks(np.arange(0,1.05,0.05))\n",
    "ax2.set_yticklabels(['{:.0f}%'.format(x*100) for x in ax2.get_yticks()],color='red')\n",
    "ax2.set_ylabel('Average accuracy',color='red')\n",
    "# ax2.set_xticks(buckets)\n",
    "\n",
    "# plotting.add_grid(ax=ax1)\n",
    "plotting.add_grid(ax=ax2)\n",
    "plotting.plot_value_labels(format=\"{:.0f}\",ax=ax1)\n",
    "plt.xticks(np.arange(0,101,5))\n",
    "ax1.xaxis.set_ticks_position('bottom')\n",
    "plt.gcf().set_size_inches(7,5)\n",
    "plt.suptitle(\n",
    "    'TEST SET \\n'+\n",
    "    'DROP INTER-MOMENT TRANSITIONS={} \\nDROP-INTER FASE TRANSITIONS={} \\nMAX_AGE={} \\nACCURACY={:.2f}%'.format(DROP_INTRA_MOMENT,DROP_INTRA_FASE, MAX_TEXT_AGE,accuracy),\n",
    "    y=1.08)\n",
    "plt.show()"
   ]
  },
  {
   "cell_type": "markdown",
   "metadata": {},
   "source": [
    "## add an example of a well-calibrated model with roughly constant frequency by bucket"
   ]
  },
  {
   "cell_type": "markdown",
   "metadata": {},
   "source": [
    "## add an example of a well-calibrated model but with most scores in the lower buckets"
   ]
  },
  {
   "cell_type": "markdown",
   "metadata": {},
   "source": [
    "## add an example of a model with missing scores in a bucket"
   ]
  },
  {
   "cell_type": "code",
   "execution_count": null,
   "metadata": {
    "collapsed": true
   },
   "outputs": [],
   "source": []
  }
 ],
 "metadata": {
  "kernelspec": {
   "display_name": "Global TF Kernel (Python 3)",
   "language": "python",
   "name": "global-tf-python-3"
  },
  "language_info": {
   "codemirror_mode": {
    "name": "ipython",
    "version": 3
   },
   "file_extension": ".py",
   "mimetype": "text/x-python",
   "name": "python",
   "nbconvert_exporter": "python",
   "pygments_lexer": "ipython3",
   "version": "3.5.2"
  }
 },
 "nbformat": 4,
 "nbformat_minor": 2
}
