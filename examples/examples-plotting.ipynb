{
 "cells": [
  {
   "cell_type": "code",
   "execution_count": 1,
   "metadata": {
    "ExecuteTime": {
     "end_time": "2021-06-29T23:19:04.731075Z",
     "start_time": "2021-06-29T23:19:04.397964Z"
    }
   },
   "outputs": [],
   "source": [
    "import os\n",
    "import sys\n",
    "import matplotlib.pyplot as plt\n",
    "import numpy as np"
   ]
  },
  {
   "cell_type": "code",
   "execution_count": 2,
   "metadata": {
    "ExecuteTime": {
     "end_time": "2021-06-29T23:19:04.735552Z",
     "start_time": "2021-06-29T23:19:04.732873Z"
    }
   },
   "outputs": [],
   "source": [
    "root_dir = os.path.abspath(\"__file__\"+\"/../../\")"
   ]
  },
  {
   "cell_type": "code",
   "execution_count": 3,
   "metadata": {
    "ExecuteTime": {
     "end_time": "2021-06-29T23:19:04.819367Z",
     "start_time": "2021-06-29T23:19:04.767779Z"
    }
   },
   "outputs": [],
   "source": [
    "sys.path.insert(0,root_dir)"
   ]
  },
  {
   "cell_type": "code",
   "execution_count": 4,
   "metadata": {
    "ExecuteTime": {
     "end_time": "2021-06-29T23:19:04.969255Z",
     "start_time": "2021-06-29T23:19:04.949757Z"
    }
   },
   "outputs": [],
   "source": [
    "%load_ext autoreload\n",
    "%autoreload 2"
   ]
  },
  {
   "cell_type": "markdown",
   "metadata": {},
   "source": [
    "## add_grid"
   ]
  },
  {
   "cell_type": "code",
   "execution_count": 5,
   "metadata": {
    "ExecuteTime": {
     "end_time": "2021-06-29T23:19:05.810318Z",
     "start_time": "2021-06-29T23:19:05.785537Z"
    }
   },
   "outputs": [],
   "source": [
    "import dsutil"
   ]
  },
  {
   "cell_type": "code",
   "execution_count": 6,
   "metadata": {
    "ExecuteTime": {
     "end_time": "2021-06-29T23:19:06.194417Z",
     "start_time": "2021-06-29T23:19:06.171762Z"
    }
   },
   "outputs": [
    {
     "data": {
      "text/plain": [
       "'0.2.0'"
      ]
     },
     "execution_count": 6,
     "metadata": {},
     "output_type": "execute_result"
    }
   ],
   "source": [
    "dsutil.__version__"
   ]
  },
  {
   "cell_type": "code",
   "execution_count": 7,
   "metadata": {
    "ExecuteTime": {
     "end_time": "2021-06-29T23:19:08.722513Z",
     "start_time": "2021-06-29T23:19:08.339244Z"
    }
   },
   "outputs": [],
   "source": [
    "from dsutil.plotting import add_grid"
   ]
  },
  {
   "cell_type": "code",
   "execution_count": 12,
   "metadata": {
    "ExecuteTime": {
     "end_time": "2021-06-29T23:21:22.116688Z",
     "start_time": "2021-06-29T23:21:21.958744Z"
    }
   },
   "outputs": [
    {
     "data": {
      "image/png": "[encoded data removed]",
      "text/plain": [
       "<Figure size 432x288 with 1 Axes>"
      ]
     },
     "metadata": {
      "needs_background": "light"
     },
     "output_type": "display_data"
    }
   ],
   "source": [
    "plt.clf()\n",
    "\n",
    "np.random.seed(42)\n",
    "x = np.linspace(0.0,100,10)\n",
    "y = np.random.uniform(low=0,high=10,size=10)\n",
    "\n",
    "plt.bar(x,y,width=1.0)\n",
    "\n",
    "add_grid()\n",
    "\n",
    "plt.show()"
   ]
  },
  {
   "cell_type": "markdown",
   "metadata": {},
   "source": [
    "## format_yaxis_percentage"
   ]
  },
  {
   "cell_type": "code",
   "execution_count": 13,
   "metadata": {
    "ExecuteTime": {
     "end_time": "2021-06-29T23:30:04.122383Z",
     "start_time": "2021-06-29T23:30:04.085753Z"
    }
   },
   "outputs": [],
   "source": [
    "from dsutil.plotting import format_yaxis_percentage"
   ]
  },
  {
   "cell_type": "code",
   "execution_count": 17,
   "metadata": {
    "ExecuteTime": {
     "end_time": "2021-06-29T23:35:37.056919Z",
     "start_time": "2021-06-29T23:35:36.885525Z"
    }
   },
   "outputs": [
    {
     "data": {
      "image/png": "[encoded data removed]",
      "text/plain": [
       "<Figure size 432x288 with 1 Axes>"
      ]
     },
     "metadata": {
      "needs_background": "light"
     },
     "output_type": "display_data"
    }
   ],
   "source": [
    "plt.clf()\n",
    "np.random.seed(42)\n",
    "x = np.linspace(0.0,100,10)\n",
    "y = np.random.uniform(low=0,high=1,size=10)\n",
    "\n",
    "plt.bar(x,y,width=1.0)\n",
    "plt.yticks(np.arange(0,1.01,0.1))\n",
    "\n",
    "format_yaxis_percentage()\n",
    "\n",
    "plt.show()"
   ]
  },
  {
   "cell_type": "markdown",
   "metadata": {},
   "source": [
    "## format_yaxis_thousands"
   ]
  },
  {
   "cell_type": "code",
   "execution_count": 20,
   "metadata": {
    "ExecuteTime": {
     "end_time": "2021-06-29T23:37:52.747258Z",
     "start_time": "2021-06-29T23:37:52.722676Z"
    }
   },
   "outputs": [],
   "source": [
    "from dsutil.plotting import format_yaxis_thousands"
   ]
  },
  {
   "cell_type": "code",
   "execution_count": 21,
   "metadata": {
    "ExecuteTime": {
     "end_time": "2021-06-29T23:37:53.193423Z",
     "start_time": "2021-06-29T23:37:52.975548Z"
    }
   },
   "outputs": [
    {
     "data": {
      "image/png": "[encoded data removed]",
      "text/plain": [
       "<Figure size 432x288 with 1 Axes>"
      ]
     },
     "metadata": {
      "needs_background": "light"
     },
     "output_type": "display_data"
    }
   ],
   "source": [
    "plt.clf()\n",
    "\n",
    "np.random.seed(42)\n",
    "x = np.linspace(0.0,100,10)\n",
    "y = np.random.uniform(low=10000,high=100000,size=10)\n",
    "\n",
    "plt.bar(x,y,width=1.0)\n",
    "plt.yticks(np.arange(0,100001,10000))\n",
    "\n",
    "format_yaxis_thousands()\n",
    "\n",
    "plt.show()"
   ]
  },
  {
   "cell_type": "markdown",
   "metadata": {},
   "source": [
    "## add_value_labels"
   ]
  },
  {
   "cell_type": "code",
   "execution_count": 23,
   "metadata": {
    "ExecuteTime": {
     "end_time": "2021-06-29T23:39:12.802368Z",
     "start_time": "2021-06-29T23:39:12.762913Z"
    }
   },
   "outputs": [],
   "source": [
    "from dsutil.plotting import add_value_labels"
   ]
  },
  {
   "cell_type": "markdown",
   "metadata": {},
   "source": [
    "simplest possible usage"
   ]
  },
  {
   "cell_type": "code",
   "execution_count": 33,
   "metadata": {
    "ExecuteTime": {
     "end_time": "2021-06-29T23:42:04.707631Z",
     "start_time": "2021-06-29T23:42:04.573244Z"
    }
   },
   "outputs": [
    {
     "data": {
      "image/png": "[encoded data removed]",
      "text/plain": [
       "<Figure size 432x288 with 1 Axes>"
      ]
     },
     "metadata": {
      "needs_background": "light"
     },
     "output_type": "display_data"
    }
   ],
   "source": [
    "plt.clf()\n",
    "\n",
    "np.random.seed(43)\n",
    "x = np.linspace(0.0,100,10)\n",
    "y = np.random.uniform(low=0,high=10,size=10)\n",
    "\n",
    "plt.bar(x,y,width=1.0)\n",
    "\n",
    "add_value_labels(format='{:.1f}')\n",
    "\n",
    "plt.show()"
   ]
  },
  {
   "cell_type": "markdown",
   "metadata": {},
   "source": [
    "with negative values"
   ]
  },
  {
   "cell_type": "code",
   "execution_count": 31,
   "metadata": {
    "ExecuteTime": {
     "end_time": "2021-06-29T23:41:40.812991Z",
     "start_time": "2021-06-29T23:41:40.577995Z"
    }
   },
   "outputs": [
    {
     "data": {
      "image/png": "[encoded data removed]",
      "text/plain": [
       "<Figure size 432x288 with 1 Axes>"
      ]
     },
     "metadata": {
      "needs_background": "light"
     },
     "output_type": "display_data"
    }
   ],
   "source": [
    "plt.clf()\n",
    "\n",
    "np.random.seed(43)\n",
    "x = np.linspace(0.0,100,10)\n",
    "y = np.random.uniform(low=-10,high=0,size=10)\n",
    "\n",
    "plt.bar(x,y,width=1.0)\n",
    "\n",
    "add_value_labels(format='{:.1f}')\n",
    "\n",
    "plt.show()"
   ]
  }
 ],
 "metadata": {
  "kernelspec": {
   "display_name": "Python 3",
   "language": "python",
   "name": "python3"
  },
  "language_info": {
   "codemirror_mode": {
    "name": "ipython",
    "version": 3
   },
   "file_extension": ".py",
   "mimetype": "text/x-python",
   "name": "python",
   "nbconvert_exporter": "python",
   "pygments_lexer": "ipython3",
   "version": "3.6.9"
  },
  "toc": {
   "base_numbering": 1,
   "nav_menu": {},
   "number_sections": true,
   "sideBar": true,
   "skip_h1_title": false,
   "title_cell": "Table of Contents",
   "title_sidebar": "Contents",
   "toc_cell": false,
   "toc_position": {},
   "toc_section_display": true,
   "toc_window_display": false
  }
 },
 "nbformat": 4,
 "nbformat_minor": 2
}
